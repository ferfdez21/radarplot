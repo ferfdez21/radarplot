{
 "cells": [
  {
   "cell_type": "code",
   "execution_count": null,
   "metadata": {},
   "outputs": [],
   "source": [
    "import numpy as np\n",
    "import matplotlib.pyplot as plt\n",
    "from matplotlib.animation import FuncAnimation\n",
    "import requests"
   ]
  },
  {
   "cell_type": "markdown",
   "metadata": {},
   "source": [
    "**CONSTANTS**"
   ]
  },
  {
   "cell_type": "code",
   "execution_count": null,
   "metadata": {},
   "outputs": [],
   "source": [
    "RESIDENCE_TARGET_RATIO = 1.676009385\n",
    "AMENITIES_TARGET_RATIO = 0.18315354\n",
    "\n",
    "first_year = 1980\n",
    "curr_year = 2023\n",
    "last_year = 2040"
   ]
  },
  {
   "cell_type": "markdown",
   "metadata": {},
   "source": [
    "**DATA INPUT**"
   ]
  },
  {
   "cell_type": "code",
   "execution_count": null,
   "metadata": {},
   "outputs": [],
   "source": [
    "# API CALL TO SPREADSHEETS #\n",
    "api_key = 'YOUR_API_KEY'\n",
    "spreadsheet_id = 'YOUR_SPREADSHEET_ID'\n",
    "sheet_name = 'YOUR_SHEET_NAME'\n",
    "sheet_range = 'YOUR_SHEET_RANGE'\n",
    "\n",
    "# Define the range or endpoint you want to access\n",
    "endpoint = f'https://sheets.googleapis.com/v4/spreadsheets/{spreadsheet_id}/values/{sheet_name}!{sheet_range}'\n",
    "\n",
    "# Include the API key as a query parameter\n",
    "params = {'key': api_key}\n",
    "\n",
    "spreadsheet = np.array(requests.get(endpoint, params=params).json()['values']).astype(float)"
   ]
  },
  {
   "cell_type": "markdown",
   "metadata": {},
   "source": [
    "**PRE-PROCESSING**\n",
    "\n",
    "1. Assign axes: data and labels"
   ]
  },
  {
   "cell_type": "code",
   "execution_count": null,
   "metadata": {},
   "outputs": [],
   "source": [
    "office_ref = spreadsheet[0][curr_year-first_year]\n",
    "\n",
    "office_demand = []\n",
    "residential_early_demand = []\n",
    "residential_mid_demand = []\n",
    "residential_essential_demand = []\n",
    "residential_executive_demand = []\n",
    "residential_senior_demand = []\n",
    "amenities_demand = []\n",
    "\n",
    "for i in range(last_year-first_year+1):\n",
    "    office = spreadsheet[0][i]\n",
    "    office_demand.append(office / office_ref)\n",
    "\n",
    "    targetResidentialToOffice = office * RESIDENCE_TARGET_RATIO\n",
    "    fulfilled = spreadsheet[1][i] / targetResidentialToOffice\n",
    "\n",
    "    residential_early_demand.append(fulfilled * spreadsheet[2][i])\n",
    "    residential_mid_demand.append(fulfilled * spreadsheet[3][i])\n",
    "    residential_essential_demand.append(fulfilled * spreadsheet[4][i])\n",
    "    residential_executive_demand.append(fulfilled * spreadsheet[5][i])\n",
    "    residential_senior_demand.append(fulfilled * spreadsheet[6][i])\n",
    "\n",
    "amenities_demand = spreadsheet[8]"
   ]
  },
  {
   "cell_type": "code",
   "execution_count": null,
   "metadata": {},
   "outputs": [],
   "source": [
    "raw_data = np.vstack((office_demand, residential_early_demand, residential_mid_demand, residential_essential_demand,\n",
    "                      residential_executive_demand, residential_senior_demand, amenities_demand))   # (datalist1, datalist2, ...)\n",
    "labels = [\"Office/Lab\", \"Housing Young Professionals\", \"Housing Workforce\", \"Housing Families\", \"Housing Professionals\",\n",
    "          \"Housing Seniors\", \"Amenities\"]     # [label1, label2, ...]"
   ]
  },
  {
   "cell_type": "markdown",
   "metadata": {},
   "source": [
    "2. Interpolate data to smooth out the animation\n",
    "    \n",
    "    \n",
    "* ``smooth_rate = 0``  -> no smoothed plot\n",
    "* ``smooth_rate = 10`` -> smoothed plot (10 values between each value)"
   ]
  },
  {
   "cell_type": "code",
   "execution_count": null,
   "metadata": {},
   "outputs": [],
   "source": [
    "smooth_rate = 2\n",
    "\n",
    "data = []\n",
    "for row_csv in raw_data:\n",
    "    num_points = smooth_rate + 1\n",
    "    max_val = 0.99\n",
    "    row_csv[row_csv>max_val] = max_val\n",
    "    smoothed_row = []\n",
    "    for i in range(len(row_csv)):\n",
    "        init_val = row_csv[i]\n",
    "        end_val = row_csv[i+1] if i+1 < len(row_csv) else row_csv[i]\n",
    "        smoothed_row.extend(np.linspace(init_val, end_val, num_points))\n",
    "    data.append(100*np.asarray(smoothed_row, dtype='float'))"
   ]
  },
  {
   "cell_type": "markdown",
   "metadata": {},
   "source": [
    "``(function) def curve_plot(values: array, curve_rate: int) -> angles: array, values: array``\n",
    "\n",
    "Curves the plotted values between each axis.\n",
    "* ``curve_rate = 0``    -> no curved plot\n",
    "* ``curve_rate = 10``   -> curved plot (10 dots between each axis)"
   ]
  },
  {
   "cell_type": "code",
   "execution_count": null,
   "metadata": {},
   "outputs": [],
   "source": [
    "curve_rate = 0\n",
    "\n",
    "def curve_plot(values, curve_rate):\n",
    "    num_points = curve_rate + 1\n",
    "    angles = np.linspace(0, 2 * np.pi, num_points*(len(labels)-1))\n",
    "    values = []\n",
    "    for i in range(len(values)-1):\n",
    "        values.extend(np.linspace(values[i], values[i+1], num_points))\n",
    "    return angles, values"
   ]
  },
  {
   "cell_type": "markdown",
   "metadata": {},
   "source": [
    "**RADAR PLOT CREATION**"
   ]
  },
  {
   "cell_type": "code",
   "execution_count": null,
   "metadata": {},
   "outputs": [],
   "source": [
    "# Radar plot setup\n",
    "data.append(data[0])\n",
    "labels.append(labels[0])"
   ]
  },
  {
   "cell_type": "code",
   "execution_count": null,
   "metadata": {},
   "outputs": [],
   "source": [
    "# Coordinates setup\n",
    "angles = np.linspace(0, 2 * np.pi, len(labels))\n",
    "values = [d[0] for d in data]\n",
    "\n",
    "# Plot setup\n",
    "fig, ax = plt.subplots(subplot_kw={'projection': 'polar'})  # adjust radarplot size adding as argument ``figsize = (15,15)``\n",
    "fig.set_facecolor('black')\n",
    "ax.set_facecolor('black')\n",
    "ax.xaxis.grid(True, which='both', color='0.3')\n",
    "ax.spines['polar'].set(linewidth=5, color='white', zorder=100)\n",
    "ax.set_rlim(0, 100)\n",
    "\n",
    "# Label setup\n",
    "ax.tick_params(axis='x', labelsize='small', colors='white')  # For angle labels\n",
    "ax.tick_params(axis='y', labelsize='x-small', colors='white')  # For value labels\n",
    "ax.set_xticks(angles[:-1], labels[:-1], color='white')\n",
    "\n",
    "for label, angle in zip(ax.get_xticklabels(), angles[:-1]):\n",
    "    if angle == np.pi/2 or angle == 3*np.pi/2:\n",
    "        label.set_horizontalalignment('center')\n",
    "    elif np.pi/2 < angle < 3*np.pi/2:\n",
    "        label.set_horizontalalignment('right')\n",
    "    else:\n",
    "        label.set_horizontalalignment('left')\n",
    "\n",
    "# Line setup\n",
    "radar_line, = ax.fill(angles, values, facecolor='#5797DB', edgecolor='#5797DB', linewidth=2, alpha=0.4, zorder=0)\n",
    "\n",
    "if curve_rate > 0:\n",
    "    angles, values = curve_plot(values, curve_rate)\n",
    "\n",
    "line, = ax.plot(angles, values, color='white', linestyle='-', linewidth=2, zorder=8)\n",
    "\n",
    "# Year setup\n",
    "# year_text is the year counter on top right corner\n",
    "year_text = plt.text(0.90, 1, first_year, color='white', fontsize='xx-large', transform=plt.gca().transAxes)\n",
    "plt.text(np.pi/4, 15, first_year, color='white', fontsize='small', fontweight='bold', zorder=100)"
   ]
  },
  {
   "cell_type": "markdown",
   "metadata": {},
   "source": [
    "``(function) def update_plot(angles: array, data: array) -> radar_line: array``\n",
    "\n",
    "Updates the plot with the next values in the dataset.\n",
    "* ``i`` : counter of calls to *update_plot*"
   ]
  },
  {
   "cell_type": "code",
   "execution_count": null,
   "metadata": {},
   "outputs": [],
   "source": [
    "def update_plot(i, angles, data):\n",
    "    global radar_line, fill, curve_rate\n",
    "    \n",
    "    year = first_year+int(i/(smooth_rate+1))\n",
    "\n",
    "    values = [d[i] for d in data]\n",
    "    if curve_rate > 0:\n",
    "        angles, values = curve_plot(values, curve_rate)\n",
    "    \n",
    "    if year <= last_year: year_text.set_text(year)\n",
    "    if year == curr_year+1: year_text.set_color('yellow')\n",
    "    if year == last_year:\n",
    "        line, = ax.plot(angles, values, color='#157F1F', linestyle='-', linewidth=5, zorder=8)\n",
    "        return radar_line\n",
    "    \n",
    "    radar_line.set_xy(np.array([angles, values]).T)\n",
    "\n",
    "\n",
    "    # Create plots for the data lines\n",
    "    if year == curr_year and i%(smooth_rate+1) == 0:\n",
    "        line, = ax.plot(angles, values, color='white', linestyle='-', linewidth=2, zorder=8)\n",
    "        plt.text(np.pi / 16, 25, year, color='white', fontsize='small', fontweight='bold', zorder=100)\n",
    "    elif year in [2025, 2028, 2031, 2034, 2037] and i%(smooth_rate+1) == smooth_rate:\n",
    "        line, = ax.plot(angles, values, color='#d9db57', linestyle='-', linewidth=1, zorder=8)\n",
    "        match year:\n",
    "            case 2025: plt.text(2*np.pi - np.pi / 8, 20, year, color='#d9db57', fontsize='small', fontweight='bold', zorder=100)\n",
    "            case 2028: plt.text(6* 2*np.pi / 7, 25, year, color='#d9db57', fontsize='small', fontweight='bold', zorder=100)\n",
    "            case 2031: plt.text(6* 2*np.pi / 7, 45, year, color='#d9db57', fontsize='small', fontweight='bold', zorder=100)\n",
    "            case 2034: plt.text(6* 2*np.pi / 7, 70, year, color='#d9db57', fontsize='small', fontweight='bold', zorder=100)\n",
    "            case 2037: plt.text(6* 2*np.pi - np.pi / 6, 90, year, color='#d9db57', fontsize='small', fontweight='bold', zorder=100)\n",
    "\n",
    "    return radar_line\n"
   ]
  },
  {
   "cell_type": "markdown",
   "metadata": {},
   "source": [
    "**SAVE ANIMATION**"
   ]
  },
  {
   "cell_type": "code",
   "execution_count": null,
   "metadata": {},
   "outputs": [],
   "source": [
    "ani = FuncAnimation(fig, update_plot, frames=len(data[0]), fargs=(angles, data), interval=100)\n",
    "\n",
    "# ani.save(\"animation.mp4\", dpi=300)\n",
    "\n",
    "# FFwriter = FFMpegWriter(fps=60)\n",
    "# ani.save(f\"animation.mp4\", writer=FFwriter)\n",
    "\n",
    "ani.save(f\"ani.gif\", writer='pillow')"
   ]
  }
 ],
 "metadata": {
  "kernelspec": {
   "display_name": "Python 3",
   "language": "python",
   "name": "python3"
  },
  "language_info": {
   "codemirror_mode": {
    "name": "ipython",
    "version": 3
   },
   "file_extension": ".py",
   "mimetype": "text/x-python",
   "name": "python",
   "nbconvert_exporter": "python",
   "pygments_lexer": "ipython3",
   "version": "3.10.0"
  }
 },
 "nbformat": 4,
 "nbformat_minor": 2
}
